{
  "nbformat": 4,
  "nbformat_minor": 0,
  "metadata": {
    "colab": {
      "name": "eTagger_evaluation_results.ipynb",
      "provenance": []
    },
    "kernelspec": {
      "name": "python3",
      "display_name": "Python 3"
    },
    "language_info": {
      "name": "python"
    }
  },
  "cells": [
    {
      "cell_type": "code",
      "execution_count": 1,
      "metadata": {
        "id": "TvIpw3A-RvfY"
      },
      "outputs": [],
      "source": [
        "import pandas as pd\n",
        "from sklearn.metrics import precision_recall_fscore_support\n",
        "from sklearn.preprocessing import MultiLabelBinarizer"
      ]
    },
    {
      "cell_type": "code",
      "source": [
        "df = pd.read_csv('energy_issues_labeled.csv')"
      ],
      "metadata": {
        "id": "laqv07RNStAv"
      },
      "execution_count": 2,
      "outputs": []
    },
    {
      "cell_type": "markdown",
      "source": [
        "## Preprocessing"
      ],
      "metadata": {
        "id": "XMg9PA8-d1_Z"
      }
    },
    {
      "cell_type": "code",
      "source": [
        "df['model_labels'] = df.model_labels.apply(lambda x: x[1:-1].split(', '))\n",
        "df['manual_labels'] = df.manual_labels.apply(lambda x: x[1:-1].split(','))\n",
        "df['manual_labels'] = df.manual_labels.apply(lambda x: [int(a) for a in x if a != ''])\n",
        "df['model_labels'] = df.model_labels.apply(lambda x: [int(a) for a in x if a != ''])"
      ],
      "metadata": {
        "id": "woSYSYUeSzmy"
      },
      "execution_count": 3,
      "outputs": []
    },
    {
      "cell_type": "code",
      "source": [
        "mlb = MultiLabelBinarizer()"
      ],
      "metadata": {
        "id": "xbr7cl1-TlGX"
      },
      "execution_count": 4,
      "outputs": []
    },
    {
      "cell_type": "code",
      "source": [
        "ytrue = mlb.fit_transform(df.manual_labels)\n",
        "ypred = mlb.transform(df.model_labels)"
      ],
      "metadata": {
        "id": "X5naQWcLTpL-"
      },
      "execution_count": 5,
      "outputs": []
    },
    {
      "cell_type": "code",
      "source": [
        "precision, recall, f1score, _ =  precision_recall_fscore_support(y_true=ytrue, y_pred=ypred, average='weighted')"
      ],
      "metadata": {
        "id": "dbNzuCQCT1By"
      },
      "execution_count": 6,
      "outputs": []
    },
    {
      "cell_type": "code",
      "source": [
        "print(f\"precision = {precision}\")\n",
        "print(f\"recall = {recall}\")\n",
        "print(f\"f1score = {f1score}\")"
      ],
      "metadata": {
        "colab": {
          "base_uri": "https://localhost:8080/"
        },
        "id": "OIIQtVSXa6pw",
        "outputId": "f13e7489-4f82-44a2-aca6-c45d437c4f5a"
      },
      "execution_count": 7,
      "outputs": [
        {
          "output_type": "stream",
          "name": "stdout",
          "text": [
            "precision = 0.5688672615507478\n",
            "recall = 0.5275229357798165\n",
            "f1score = 0.5040308653809396\n"
          ]
        }
      ]
    }
  ]
}